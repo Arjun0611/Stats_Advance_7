{
 "cells": [
  {
   "cell_type": "code",
   "execution_count": 1,
   "id": "befa3ae4-065b-4953-88f5-d2ae3c34de5e",
   "metadata": {},
   "outputs": [],
   "source": [
    "#Q1.\n",
    "\n",
    "import scipy.stats as stats"
   ]
  },
  {
   "cell_type": "code",
   "execution_count": 2,
   "id": "0c7e0655-152d-4ed1-8f97-6aa809223298",
   "metadata": {},
   "outputs": [],
   "source": [
    "group1_data = [15, 20, 25, 30, 35]\n",
    "group2_data = [10, 18, 22, 28, 33]"
   ]
  },
  {
   "cell_type": "code",
   "execution_count": 5,
   "id": "e7765e20-f24a-47f9-886b-45cada6c8510",
   "metadata": {},
   "outputs": [
    {
     "name": "stdout",
     "output_type": "stream",
     "text": [
      "F-Statistic: 0.27664079040225825\n",
      "P-Value: 0.613175764941194\n"
     ]
    }
   ],
   "source": [
    "def variance_ratio_test (data1, data2):\n",
    "    f_statistic, p_value = stats.f_oneway(data1, data2)\n",
    "    return f_statistic, p_value\n",
    "\n",
    "f_stat, p_val = variance_ratio_test(group1_data, group2_data)\n",
    "\n",
    "print(f\"F-Statistic: {f_stat}\")\n",
    "print(f\"P-Value: {p_val}\")"
   ]
  },
  {
   "cell_type": "code",
   "execution_count": 6,
   "id": "2f5a0e18-a722-48b7-8103-6eb0ce09a142",
   "metadata": {},
   "outputs": [
    {
     "name": "stdout",
     "output_type": "stream",
     "text": [
      "Critical F-Value: 3.8586986662732143\n"
     ]
    }
   ],
   "source": [
    "#Q2.\n",
    "\n",
    "def critical_f_value(significance_level, df_num, df_den):\n",
    "    alpha = significance_level /2 #Since it is a two-tailed test, alpha would be half of the significance level.\n",
    "    critical_f = stats.f.ppf(1 - alpha, df_num, df_den)\n",
    "    \n",
    "    return critical_f\n",
    "\n",
    "# E.g.\n",
    "significance_level = 0.05\n",
    "degrees_of_freedom_num = 3\n",
    "degrees_of_freedom_den = 20\n",
    "\n",
    "critical_f = critical_f_value(significance_level, degrees_of_freedom_num, degrees_of_freedom_den)\n",
    "print(f\"Critical F-Value: {critical_f}\")"
   ]
  },
  {
   "cell_type": "code",
   "execution_count": 7,
   "id": "a6dd9b89-bfe0-4177-a796-5400964eb18b",
   "metadata": {},
   "outputs": [],
   "source": [
    "import numpy as np"
   ]
  },
  {
   "cell_type": "code",
   "execution_count": 107,
   "id": "7ee24912-1bbf-4e54-a523-06df2a9b7eaa",
   "metadata": {},
   "outputs": [],
   "source": [
    "#Q3."
   ]
  },
  {
   "cell_type": "code",
   "execution_count": 108,
   "id": "01946d53-bf84-4927-9b10-dd69c1e22329",
   "metadata": {},
   "outputs": [],
   "source": [
    "import numpy as np"
   ]
  },
  {
   "cell_type": "code",
   "execution_count": 109,
   "id": "8f482423-38d1-40fd-9f5f-34088ae09253",
   "metadata": {},
   "outputs": [],
   "source": [
    "import scipy.stats as stats"
   ]
  },
  {
   "cell_type": "code",
   "execution_count": 110,
   "id": "c555bd43-376a-42c6-9fc6-0bf020420ba5",
   "metadata": {},
   "outputs": [],
   "source": [
    "np.random.seed(42)"
   ]
  },
  {
   "cell_type": "code",
   "execution_count": 111,
   "id": "4636a7c8-207a-4251-b2de-255504a205a6",
   "metadata": {},
   "outputs": [],
   "source": [
    "sample_size_1 = 30\n",
    "sample_size_2 = 30\n",
    "variance_1 = 10\n",
    "variance_2 = 15"
   ]
  },
  {
   "cell_type": "code",
   "execution_count": 112,
   "id": "e0dd898a-f032-4526-a85c-3637a27807f2",
   "metadata": {},
   "outputs": [],
   "source": [
    "sample1 = np.random.normal(0, np.sqrt(variance_1), sample_size_1)\n",
    "sample2 = np.random.normal(0, np.sqrt(variance_2), sample_size_2)"
   ]
  },
  {
   "cell_type": "code",
   "execution_count": 113,
   "id": "57498084-925a-4c62-8b4f-d1746b059eb8",
   "metadata": {},
   "outputs": [
    {
     "data": {
      "text/plain": [
       "(array([ 1.57074807, -0.43723011,  2.04817099,  4.81624329, -0.74045799,\n",
       "        -0.74040607,  4.99390941,  2.4268417 , -1.48460836,  1.71572551,\n",
       "        -1.46545542, -1.4727668 ,  0.76515189, -6.05032338, -5.45466913,\n",
       "        -1.77810929, -3.20285323,  0.99373732, -2.87142425, -4.46609644,\n",
       "         4.63478836, -0.71396735,  0.21354293, -4.50544936, -1.72148933,\n",
       "         0.35076803, -3.63976128,  1.18806145, -1.89938631, -0.92241663]),\n",
       " array([-2.33039969,  7.17384256, -0.05227453, -4.09649681,  3.18570275,\n",
       "        -4.72830712,  0.80892523, -7.58976975, -5.14404245,  0.76244029,\n",
       "         2.86006877,  0.6637065 , -0.44790387, -1.1661696 , -5.72629105,\n",
       "        -2.78794463, -1.78404629,  4.09421678,  1.33082791, -6.82822516,\n",
       "         1.25517182, -1.49141726, -2.62170763,  2.36901208,  3.99304398,\n",
       "         3.60683239, -3.25027549, -1.19757438,  1.28297775,  3.77827003]))"
      ]
     },
     "execution_count": 113,
     "metadata": {},
     "output_type": "execute_result"
    }
   ],
   "source": [
    "sample1, sample2"
   ]
  },
  {
   "cell_type": "code",
   "execution_count": 114,
   "id": "82682760-4bb8-47fe-a8c3-1741416af148",
   "metadata": {},
   "outputs": [],
   "source": [
    "f_statistic = np.var(sample1, ddof=1) / np.var(sample2, ddof=1) if np.var(sample1, ddof=1) > np.var(sample2, ddof=1) else np.var(sample2, ddof=1) / np.var(sample1, ddof=1)\n",
    "df1 = sample_size_1 - 1\n",
    "df2 = sample_size_2 - 1\n",
    "alpha = 0.05\n",
    "f_critical = stats.f.ppf(1 - alpha, df1, df2)"
   ]
  },
  {
   "cell_type": "code",
   "execution_count": 115,
   "id": "aa413875-20f0-49e8-9f13-d3497010a23a",
   "metadata": {},
   "outputs": [],
   "source": [
    "p_value = stats.f.cdf(f_statistic, df1, df2)"
   ]
  },
  {
   "cell_type": "code",
   "execution_count": 116,
   "id": "761c079d-1640-49ce-87d4-cba0d21f455d",
   "metadata": {},
   "outputs": [
    {
     "name": "stdout",
     "output_type": "stream",
     "text": [
      "F-Statistic: 1.6054\n",
      "Degrees of Freedom (numerator, denominator): (29, 29)\n",
      "P-Value: 0.8958\n",
      "Critical F-Value: 1.8608\n",
      "Fail to reject the null hypothesis: Variances are not significantly different.\n"
     ]
    }
   ],
   "source": [
    "print(f\"F-Statistic: {f_statistic:.4f}\")\n",
    "print(f\"Degrees of Freedom (numerator, denominator): ({df1}, {df2})\")\n",
    "print(f\"P-Value: {p_value:.4f}\")\n",
    "print(f\"Critical F-Value: {f_critical:.4f}\")\n",
    "\n",
    "# Compare the p-value to the significance level\n",
    "if p_value < alpha:\n",
    "    print(\"Reject the null hypothesis: Variances are significantly different.\")\n",
    "else:\n",
    "    print(\"Fail to reject the null hypothesis: Variances are not significantly different.\")"
   ]
  },
  {
   "cell_type": "code",
   "execution_count": 17,
   "id": "c8995606-bf43-435b-9da7-7c141333f665",
   "metadata": {},
   "outputs": [],
   "source": [
    "#Q4."
   ]
  },
  {
   "cell_type": "code",
   "execution_count": 18,
   "id": "dbd05ca3-c666-492e-a8fc-bbd5cb945026",
   "metadata": {},
   "outputs": [],
   "source": [
    "#Given Data:\n",
    "variance_1 = 10\n",
    "variance_2 = 15\n",
    "sample_size_1 = 12\n",
    "sample_size_2 = 12\n",
    "alpha = 0.05"
   ]
  },
  {
   "cell_type": "code",
   "execution_count": 19,
   "id": "cd6f4b75-985f-4650-9acc-7780429db0a0",
   "metadata": {},
   "outputs": [],
   "source": [
    "f_statistic = variance_1 / variance_2"
   ]
  },
  {
   "cell_type": "code",
   "execution_count": 20,
   "id": "439c4d2b-40af-44fb-a5af-9185d0abc60b",
   "metadata": {},
   "outputs": [],
   "source": [
    "df1 = sample_size_1 - 1\n",
    "df2 = sample_size_2 - 1"
   ]
  },
  {
   "cell_type": "code",
   "execution_count": 28,
   "id": "1fa3d6d0-96ed-4b58-ba3d-532eb20a386b",
   "metadata": {},
   "outputs": [],
   "source": [
    "f_critical = stats.f.ppf(1 - alpha, df1, df2)"
   ]
  },
  {
   "cell_type": "code",
   "execution_count": 29,
   "id": "f1a5e703-8025-489e-93db-4faeb125a986",
   "metadata": {},
   "outputs": [
    {
     "data": {
      "text/plain": [
       "2.8179304699530863"
      ]
     },
     "execution_count": 29,
     "metadata": {},
     "output_type": "execute_result"
    }
   ],
   "source": [
    "f_critical"
   ]
  },
  {
   "cell_type": "code",
   "execution_count": 30,
   "id": "de6c3a38-6612-476e-863e-30a127cab382",
   "metadata": {},
   "outputs": [
    {
     "name": "stdout",
     "output_type": "stream",
     "text": [
      "F-Statistic: 0.6667\n",
      "Degrees of Freedom (numerator, denominator): (11, 11)\n",
      "Critical F-Value: 2.8179\n"
     ]
    }
   ],
   "source": [
    "print(f\"F-Statistic: {f_statistic:.4f}\")\n",
    "print(f\"Degrees of Freedom (numerator, denominator): ({df1}, {df2})\")\n",
    "print(f\"Critical F-Value: {f_critical:.4f}\")"
   ]
  },
  {
   "cell_type": "code",
   "execution_count": 31,
   "id": "43f4bddf-4fb2-4765-81d3-bacf314b2419",
   "metadata": {},
   "outputs": [
    {
     "name": "stdout",
     "output_type": "stream",
     "text": [
      "Fail to reject the null hypothesis: Variances are not significantly different.\n"
     ]
    }
   ],
   "source": [
    "if f_statistic > f_critical:\n",
    "    print(\"Reject the null hypothesis: Variances are significantly different.\")\n",
    "else:\n",
    "    print(\"Fail to reject the null hypothesis: Variances are not significantly different.\")"
   ]
  },
  {
   "cell_type": "code",
   "execution_count": 33,
   "id": "3ea998fc-3cb4-4cdc-88d9-ab4f3d9a03ce",
   "metadata": {},
   "outputs": [],
   "source": [
    "#Q5.\n",
    "\n",
    "# Null Hypothesis: The population variance is equal to the claimed variance (i.e. population variance = 0.005)\n",
    "# Alternative Hypothesis: The population variance is not equal to the claimed variance (i.e. population variance not equal to 0.005)"
   ]
  },
  {
   "cell_type": "code",
   "execution_count": 34,
   "id": "1c53cc3f-a578-4b07-8596-723224007c06",
   "metadata": {},
   "outputs": [],
   "source": [
    "# Given data:\n",
    "claimed_variance = 0.005\n",
    "sample_variance = 0.006\n",
    "sample_size = 25\n",
    "significance_level = 0.01\n",
    "df1 = sample_size - 1\n",
    "df2 = sample_size - 1"
   ]
  },
  {
   "cell_type": "code",
   "execution_count": 35,
   "id": "d24af023-bf80-4227-950b-d967831b33dc",
   "metadata": {},
   "outputs": [],
   "source": [
    "f_statistic = sample_variance / claimed_variance"
   ]
  },
  {
   "cell_type": "code",
   "execution_count": 41,
   "id": "c9791a46-ec4b-4aca-bd76-e339a37d26ce",
   "metadata": {},
   "outputs": [],
   "source": [
    "f_critical = stats.f.ppf(1 - significance_level, df1, df2)"
   ]
  },
  {
   "cell_type": "code",
   "execution_count": 42,
   "id": "abd74c1c-0b89-4655-8d73-5519edf0f398",
   "metadata": {},
   "outputs": [
    {
     "name": "stdout",
     "output_type": "stream",
     "text": [
      "F-Statistic: 1.2000\n",
      "Degrees of Freedom (numerator, denominator): (24, 24)\n",
      "Critical F-Value: 2.6591\n"
     ]
    }
   ],
   "source": [
    "print(f\"F-Statistic: {f_statistic:.4f}\")\n",
    "print(f\"Degrees of Freedom (numerator, denominator): ({df1}, {df2})\")\n",
    "print(f\"Critical F-Value: {f_critical:.4f}\")"
   ]
  },
  {
   "cell_type": "code",
   "execution_count": 43,
   "id": "7d71df56-cc10-424a-9f90-92caebd6beaa",
   "metadata": {},
   "outputs": [
    {
     "name": "stdout",
     "output_type": "stream",
     "text": [
      "Fail to reject the null hypothesis: The claimed variance is justified.\n"
     ]
    }
   ],
   "source": [
    "if f_statistic > f_critical:\n",
    "    print(\"Reject the null hypothesis: The claimed variance is not justified.\")\n",
    "else:\n",
    "    print(\"Fail to reject the null hypothesis: The claimed variance is justified.\")"
   ]
  },
  {
   "cell_type": "code",
   "execution_count": 45,
   "id": "53e8cf0c-ed84-460b-9826-c37a773decdb",
   "metadata": {},
   "outputs": [
    {
     "name": "stdout",
     "output_type": "stream",
     "text": [
      "Mean: 1.2500\n",
      "Variance: 1.3542\n"
     ]
    }
   ],
   "source": [
    "#Q6.\n",
    "\n",
    "def f_distribution_mean_variance(df1, df2):\n",
    "    \n",
    "    mean = df2 / (df2 - 2)\n",
    "    \n",
    "    variance = (2 * (df2**2) * (df1 + df2 - 2)) / ((df1 * (df2 - 2)**2 * (df2 -4)))\n",
    "    \n",
    "    return mean, variance\n",
    "\n",
    "#E.g.\n",
    "df1 = 5\n",
    "df2 = 10\n",
    "mean, variance = f_distribution_mean_variance(df1, df2)\n",
    "print(f\"Mean: {mean:.4f}\")\n",
    "print(f\"Variance: {variance:.4f}\")"
   ]
  },
  {
   "cell_type": "code",
   "execution_count": 46,
   "id": "b026796d-2b36-4d39-8f68-98d13a2f0e14",
   "metadata": {},
   "outputs": [],
   "source": [
    "#Q7.\n",
    "\n",
    "# Null Hypothesis: The variances of two populations are equal(i.e. population variance 1 = population variance 2)\n",
    "# Alternative Hypothesis: The variances of two populations are not equal(i.e. population variance 1 is not equal to population variance 2)"
   ]
  },
  {
   "cell_type": "code",
   "execution_count": 47,
   "id": "b468c156-17dc-47de-9adc-784c291c2bc8",
   "metadata": {},
   "outputs": [],
   "source": [
    "# Given data:\n",
    "significance_level = 0.1\n",
    "sample_variance1 = 25\n",
    "sample_variance2 = 20\n",
    "sample_size1 = 10\n",
    "sample_size2 = 15\n",
    "f_statistic = sample_variance1 / sample_variance2"
   ]
  },
  {
   "cell_type": "code",
   "execution_count": 48,
   "id": "8468cc94-019e-43af-9cd4-049e67263622",
   "metadata": {},
   "outputs": [],
   "source": [
    "df1 = sample_size1 - 1\n",
    "df2 = sample_size2 - 1"
   ]
  },
  {
   "cell_type": "code",
   "execution_count": 49,
   "id": "cf8b5bca-f1c0-4d3a-8043-ca915868e84d",
   "metadata": {},
   "outputs": [],
   "source": [
    "f_critical = stats.f.ppf(1 - significance_level, df1, df2)"
   ]
  },
  {
   "cell_type": "code",
   "execution_count": 50,
   "id": "35e5560b-72e4-4aef-a968-9097e7a96c77",
   "metadata": {},
   "outputs": [
    {
     "name": "stdout",
     "output_type": "stream",
     "text": [
      "F-Statistic: 1.2500\n",
      "Degrees of Freedom (numerator, denominator): (9, 14)\n",
      "Critical F-Value: 2.1220\n"
     ]
    }
   ],
   "source": [
    "print(f\"F-Statistic: {f_statistic:.4f}\")\n",
    "print(f\"Degrees of Freedom (numerator, denominator): ({df1}, {df2})\")\n",
    "print(f\"Critical F-Value: {f_critical:.4f}\")"
   ]
  },
  {
   "cell_type": "code",
   "execution_count": 51,
   "id": "714bdb63-2d5e-4444-af21-014a808d4ac8",
   "metadata": {},
   "outputs": [
    {
     "name": "stdout",
     "output_type": "stream",
     "text": [
      "Fail to reject the null hypothesis: Variances are not significantly different.\n"
     ]
    }
   ],
   "source": [
    "if f_statistic > f_critical:\n",
    "    print(\"Reject the null hypothesis: Variances are significantly different.\")\n",
    "else:\n",
    "    print(\"Fail to reject the null hypothesis: Variances are not significantly different.\")"
   ]
  },
  {
   "cell_type": "code",
   "execution_count": 62,
   "id": "1584e9ce-2ab0-45c7-a4ff-8d3a7571fe65",
   "metadata": {},
   "outputs": [],
   "source": [
    "#Q8.\n",
    "import statistics\n",
    "data_a = [24, 25, 28, 23, 22, 20, 27]\n",
    "data_b = [31, 33, 35, 30, 32, 36]\n",
    "sample_size_a = 7\n",
    "sample_size_b = 6\n",
    "variance_data_a = statistics.variance(data_a)\n",
    "variance_data_b = statistics.variance(data_b)\n",
    "significance_level = 0.05"
   ]
  },
  {
   "cell_type": "code",
   "execution_count": 63,
   "id": "eef6314f-dfe4-417d-b1f1-a5812736ec7b",
   "metadata": {},
   "outputs": [],
   "source": [
    "if variance_data_a > variance_data_b:\n",
    "    f_statistic = variance_data_a / variance_data_b\n",
    "    df1 = len(data_a) - 1\n",
    "    df2 = len(data_b) - 1\n",
    "else:\n",
    "    f_statistic = variance_data_b / variance_data_a\n",
    "    df1 = len(data_b) - 1\n",
    "    df2 = len(data_a) - 1"
   ]
  },
  {
   "cell_type": "code",
   "execution_count": 65,
   "id": "b0550b16-e7cf-48a9-91ff-84f5c1966b62",
   "metadata": {},
   "outputs": [],
   "source": [
    "f_critical = stats.f.ppf(1 - significance_level, df1, df2)"
   ]
  },
  {
   "cell_type": "code",
   "execution_count": 66,
   "id": "d8554b7d-cbd8-4be2-a507-6088e92c3248",
   "metadata": {},
   "outputs": [
    {
     "name": "stdout",
     "output_type": "stream",
     "text": [
      "F-Statistic: 1.4552\n",
      "Degrees of Freedom (numerator, denominator): (6, 5)\n",
      "Critical F-Value: 4.9503\n"
     ]
    }
   ],
   "source": [
    "print(f\"F-Statistic: {f_statistic:.4f}\")\n",
    "print(f\"Degrees of Freedom (numerator, denominator): ({df1}, {df2})\")\n",
    "print(f\"Critical F-Value: {f_critical:.4f}\")"
   ]
  },
  {
   "cell_type": "code",
   "execution_count": 69,
   "id": "b65891d7-318c-46d3-a601-a7fc7d56745b",
   "metadata": {},
   "outputs": [
    {
     "name": "stdout",
     "output_type": "stream",
     "text": [
      "Fail to reject the null hypothesis: Variances are not significantly different.\n"
     ]
    }
   ],
   "source": [
    "if f_statistic > f_critical:\n",
    "    print(\"Reject the null hypothesis: Variances are significantly different.\")\n",
    "else:\n",
    "    print(\"Fail to reject the null hypothesis: Variances are not significantly different.\")"
   ]
  },
  {
   "cell_type": "code",
   "execution_count": 82,
   "id": "212c41a0-0bca-4582-a957-a95ce3931038",
   "metadata": {},
   "outputs": [],
   "source": [
    "#Q9.\n",
    "\n",
    "group_a = [80, 85, 90, 92, 87, 83]\n",
    "group_b = [75, 78, 82, 79, 81, 84]\n",
    "sample_size_a = 6\n",
    "sample_size_b = 6\n",
    "variance_group_a = statistics.variance(data_a)\n",
    "variance_group_b = statistics.variance(data_b)\n",
    "significance_level = 0.01"
   ]
  },
  {
   "cell_type": "code",
   "execution_count": 83,
   "id": "93e2c77b-d8a2-4979-9de8-f631809d1105",
   "metadata": {},
   "outputs": [],
   "source": [
    "if variance_group_a > variance_group_b:\n",
    "    f_statistic = variance_group_a / variance_group_b\n",
    "    df1 = len(group_a) - 1\n",
    "    df2 = len(group_b) - 1\n",
    "else:\n",
    "    f_statistic = variance_group_b / variance_group_a\n",
    "    df1 = len(group_b) - 1\n",
    "    df2 = len(group_a) - 1"
   ]
  },
  {
   "cell_type": "code",
   "execution_count": 84,
   "id": "36d97fc5-56bf-494b-882f-d2a1cd5d4dde",
   "metadata": {},
   "outputs": [],
   "source": [
    "f_critical = stats.f.ppf(1 - significance_level, df1, df2)"
   ]
  },
  {
   "cell_type": "code",
   "execution_count": 85,
   "id": "259a657e-19f9-4c06-b0c1-a8b788fb3838",
   "metadata": {},
   "outputs": [
    {
     "name": "stdout",
     "output_type": "stream",
     "text": [
      "F-Statistic: 1.4552\n",
      "Degrees of Freedom (numerator, denominator): (5, 5)\n",
      "Critical F-Value: 10.9670\n"
     ]
    }
   ],
   "source": [
    "print(f\"F-Statistic: {f_statistic:.4f}\")\n",
    "print(f\"Degrees of Freedom (numerator, denominator): ({df1}, {df2})\")\n",
    "print(f\"Critical F-Value: {f_critical:.4f}\")"
   ]
  },
  {
   "cell_type": "code",
   "execution_count": 86,
   "id": "89ba7168-6254-4225-af2d-f0df15d74aef",
   "metadata": {},
   "outputs": [
    {
     "name": "stdout",
     "output_type": "stream",
     "text": [
      "Fail to reject the null hypothesis: Variances are not significantly different.\n"
     ]
    }
   ],
   "source": [
    "if f_statistic > f_critical:\n",
    "    print(\"Reject the null hypothesis: Variances are significantly different.\")\n",
    "else:\n",
    "    print(\"Fail to reject the null hypothesis: Variances are not significantly different.\")"
   ]
  },
  {
   "cell_type": "code",
   "execution_count": 117,
   "id": "d331eac2-94d1-413f-a89f-9575a263228e",
   "metadata": {},
   "outputs": [],
   "source": [
    "# End"
   ]
  },
  {
   "cell_type": "code",
   "execution_count": 118,
   "id": "0544b6a3-d605-4d2f-a653-d3a3fd09ba3c",
   "metadata": {},
   "outputs": [],
   "source": [
    "# End"
   ]
  },
  {
   "cell_type": "code",
   "execution_count": 119,
   "id": "656ec7c1-e293-403c-8267-e02169ad9d14",
   "metadata": {},
   "outputs": [],
   "source": [
    "# End"
   ]
  },
  {
   "cell_type": "code",
   "execution_count": null,
   "id": "fa71d5bc-a55e-425c-9572-3a3913671a82",
   "metadata": {},
   "outputs": [],
   "source": []
  }
 ],
 "metadata": {
  "kernelspec": {
   "display_name": "Python 3 (ipykernel)",
   "language": "python",
   "name": "python3"
  },
  "language_info": {
   "codemirror_mode": {
    "name": "ipython",
    "version": 3
   },
   "file_extension": ".py",
   "mimetype": "text/x-python",
   "name": "python",
   "nbconvert_exporter": "python",
   "pygments_lexer": "ipython3",
   "version": "3.10.8"
  }
 },
 "nbformat": 4,
 "nbformat_minor": 5
}
